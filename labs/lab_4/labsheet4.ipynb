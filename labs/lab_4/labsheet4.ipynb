{
 "cells": [
  {
   "cell_type": "markdown",
   "metadata": {},
   "source": [
    "# Lab 4: Maximum Likelihood Estimate (MLE)\n",
    "\n",
    "### Introduction\n",
    "\n",
    "In this lab session we shall have a look at how to use the *Maximum Likelihood Estimate (MLE)* method to estimate the parameters of some model, given some observations $D$.\n",
    "\n",
    "<font color=\"red\">NOTE: </font>In the notation $\\mathcal{N} (\\mu, \\sigma^2)$ $\\mu$ refers to the mean and $\\sigma^2$  the variance, not the standard deviation. The standard deviation is $\\sigma = \\sqrt {\\sigma^2}$, i.e. for $\\mathcal{N}(0.5, 0.25)$, the standard deviation is $\\sigma = 0.5$.\n",
    "\n",
    "As usual, let's import the libraries before we start by running the cell below."
   ]
  },
  {
   "cell_type": "code",
   "execution_count": 1,
   "metadata": {},
   "outputs": [],
   "source": [
    "from __future__ import print_function # to avoid issues between Python 2 and 3 printing\n",
    "\n",
    "import numpy as np\n",
    "from scipy import stats\n",
    "# Necessary to import Axes3D to use `plt.subplots(subplot_kw={'projection': '3d'})`\n",
    "# as this internally sets up matplotlib for 3D projection, without this import you'll \n",
    "# get an error.\n",
    "from mpl_toolkits.mplot3d import Axes3D\n",
    "import matplotlib.pyplot as plt\n",
    "\n",
    "# show matplotlib figures inline\n",
    "%matplotlib inline"
   ]
  },
  {
   "cell_type": "code",
   "execution_count": 2,
   "metadata": {},
   "outputs": [],
   "source": [
    "# By default we set figures to be 7\"x4\" on a 110 dots per inch (DPI) screen \n",
    "# (adjust DPI if you have a high res screen!)\n",
    "plt.rc('figure', figsize=(7, 4), dpi=110)\n",
    "plt.rc('font', size=10)"
   ]
  },
  {
   "cell_type": "markdown",
   "metadata": {},
   "source": [
    "## MLE with Python\n",
    "\n",
    "Here, we write a simple program that calculates $\\mu_{\\text{ML}}$ using Python.\n",
    "\n",
    "Let's now load the data from the file `data1.dat` and let's plot the histogram of the data."
   ]
  },
  {
   "cell_type": "code",
   "execution_count": 4,
   "metadata": {},
   "outputs": [
    {
     "data": {
      "text/plain": [
       "(array([2., 1., 5., 9., 8., 8., 8., 4., 2., 3.]),\n",
       " array([-0.34415 , -0.144065,  0.05602 ,  0.256105,  0.45619 ,  0.656275,\n",
       "         0.85636 ,  1.056445,  1.25653 ,  1.456615,  1.6567  ]),\n",
       " <BarContainer object of 10 artists>)"
      ]
     },
     "execution_count": 4,
     "metadata": {},
     "output_type": "execute_result"
    },
    {
     "data": {
      "image/png": "[encoded data removed]",
      "text/plain": [
       "<Figure size 770x440 with 1 Axes>"
      ]
     },
     "metadata": {},
     "output_type": "display_data"
    }
   ],
   "source": [
    "# write your code here\n",
    "D = np.loadtxt('data1.dat', delimiter=',')\n",
    "plt.hist(D)"
   ]
  },
  {
   "cell_type": "markdown",
   "metadata": {
    "tags": []
   },
   "source": [
    "You should now see a histogram approximating a normal distribution. In fact, `data1.data` contains the observations $D$ we talked about above when deriving $\\mu_\\text{ML}$, which we said we believe follows a normal distribution. \n",
    "\n",
    "Write a function `compute_likelihood(D, mu)` that takes a value of $\\mu$ and computes $p(D | \\mu)$ for the data in `data1.dat`, assuming $\\sigma=0.5$.\n",
    "\n",
    "You may use NumPy's function `np.prod` for the calculation."
   ]
  },
  {
   "cell_type": "code",
   "execution_count": 19,
   "metadata": {},
   "outputs": [
    {
     "name": "stdout",
     "output_type": "stream",
     "text": [
      "2.534157584536242e-14\n"
     ]
    }
   ],
   "source": [
    "# write your code here\n",
    "\n",
    "def compute_likelihood(D, mu):\n",
    "    pdf = stats.norm.pdf(D, loc=mu, scale=0.5)\n",
    "    return pdf.prod()\n",
    "\n",
    "print(compute_likelihood(D, 0.75))\n",
    "    "
   ]
  },
  {
   "cell_type": "markdown",
   "metadata": {},
   "source": [
    "Write a function `loop_likelihood(D)` that calls `compute_likelihood` for each value of $\\mu \\in \\{0.00, 0.01, 0.02, \\ldots , 1.00\\}$, storing *both* the value of $\\mu$ and the corresponding obtained likelihood in a 2D array so that the first column contains the value $\\mu$ and the second the likelihood $p(D|\\mu)$ ."
   ]
  },
  {
   "cell_type": "code",
   "execution_count": 31,
   "metadata": {},
   "outputs": [
    {
     "data": {
      "text/plain": [
       "[[0.0, 8.13741146748026e-34],\n",
       " [0.01, 3.102955098186194e-33],\n",
       " [0.02, 1.1597885475591305e-32],\n",
       " [0.03, 4.249093142425394e-32],\n",
       " [0.04, 1.5259060563175121e-31],\n",
       " [0.05, 5.371226327954283e-31],\n",
       " [0.06, 1.8532466296313074e-30],\n",
       " [0.07, 6.2676840470669414e-30],\n",
       " [0.08, 2.0777585717378257e-29],\n",
       " [0.09, 6.751451932961369e-29],\n",
       " [0.1, 2.1503709667687085e-28],\n",
       " [0.11, 6.713418266376085e-28],\n",
       " [0.12, 2.0544147967282703e-27],\n",
       " [0.13, 6.1623544285318554e-27],\n",
       " [0.14, 1.8118378266076862e-26],\n",
       " [0.15, 5.221629844724643e-26],\n",
       " [0.16, 1.4750507130901448e-25],\n",
       " [0.17, 4.084340418259242e-25],\n",
       " [0.18, 1.1085391173145788e-24],\n",
       " [0.19, 2.9491320831520078e-24],\n",
       " [0.2, 7.690446144024684e-24],\n",
       " [0.21, 1.9657258864483234e-23],\n",
       " [0.22, 4.925025562513631e-23],\n",
       " [0.23, 1.2095062905130028e-22],\n",
       " [0.24, 2.9115341220471074e-22],\n",
       " [0.25, 6.869889433326167e-22],\n",
       " [0.26, 1.5888822776169327e-21],\n",
       " [0.27, 3.6020339750412715e-21],\n",
       " [0.28, 8.004201241171722e-21],\n",
       " [0.29, 1.7434211238444047e-20],\n",
       " [0.3, 3.722208690077208e-20],\n",
       " [0.31, 7.789565689256694e-20],\n",
       " [0.32, 1.5978642487125893e-19],\n",
       " [0.33, 3.2127773238718804e-19],\n",
       " [0.34, 6.331920919979544e-19],\n",
       " [0.35000000000000003, 1.2232196500900112e-18],\n",
       " [0.36, 2.3162611675507162e-18],\n",
       " [0.37, 4.299170942318568e-18],\n",
       " [0.38, 7.821607374122948e-18],\n",
       " [0.39, 1.3948304504692927e-17],\n",
       " [0.4, 2.4381529062694997e-17],\n",
       " [0.41000000000000003, 4.177481809186869e-17],\n",
       " [0.42, 7.01588249655661e-17],\n",
       " [0.43, 1.1549525882654105e-16],\n",
       " [0.44, 1.8636318176073254e-16],\n",
       " [0.45, 2.9476111245571357e-16],\n",
       " [0.46, 4.56977026778089e-16],\n",
       " [0.47000000000000003, 6.944366907406669e-16],\n",
       " [0.48, 1.0343917791808785e-15],\n",
       " [0.49, 1.5102594858792363e-15],\n",
       " [0.5, 2.1613853049710207e-15],\n",
       " [0.51, 3.0319841524935535e-15],\n",
       " [0.52, 4.16903719647446e-15],\n",
       " [0.53, 5.618996004253302e-15],\n",
       " [0.54, 7.423279057200236e-15],\n",
       " [0.55, 9.612734799566678e-15],\n",
       " [0.56, 1.2201472498036293e-14],\n",
       " [0.5700000000000001, 1.5180694486447262e-14],\n",
       " [0.58, 1.851335569385771e-14],\n",
       " [0.59, 2.21305781970311e-14],\n",
       " [0.6, 2.5930714678655535e-14],\n",
       " [0.61, 2.978175748164367e-14],\n",
       " [0.62, 3.3527430377313704e-14],\n",
       " [0.63, 3.6996814006944967e-14],\n",
       " [0.64, 4.0016812608403043e-14],\n",
       " [0.65, 4.2426262158113436e-14],\n",
       " [0.66, 4.409010765232438e-14],\n",
       " [0.67, 4.491192371239748e-14],\n",
       " [0.68, 4.484316594186707e-14],\n",
       " [0.6900000000000001, 4.3887918667758493e-14],\n",
       " [0.7000000000000001, 4.2102493249632835e-14],\n",
       " [0.71, 3.958993190123143e-14],\n",
       " [0.72, 3.649016313138959e-14],\n",
       " [0.73, 3.2967116699543334e-14],\n",
       " [0.74, 2.919444586316242e-14],\n",
       " [0.75, 2.534157584536242e-14],\n",
       " [0.76, 2.1561606171497332e-14],\n",
       " [0.77, 1.7982195347686173e-14],\n",
       " [0.78, 1.4700036856351123e-14],\n",
       " [0.79, 1.177899524175224e-14],\n",
       " [0.8, 9.251500559500046e-15],\n",
       " [0.81, 7.122463345048287e-15],\n",
       " [0.8200000000000001, 5.374800843828615e-15],\n",
       " [0.8300000000000001, 3.975654549202572e-15],\n",
       " [0.84, 2.882498004893425e-15],\n",
       " [0.85, 2.048535527467194e-15],\n",
       " [0.86, 1.427026688747923e-15],\n",
       " [0.87, 9.743944489007383e-16],\n",
       " [0.88, 6.521561844865711e-16],\n",
       " [0.89, 4.2784114065927355e-16],\n",
       " [0.9, 2.7512343183374094e-16],\n",
       " [0.91, 1.7341502674112552e-16],\n",
       " [0.92, 1.0714205813048751e-16],\n",
       " [0.93, 6.488545470329697e-17],\n",
       " [0.9400000000000001, 3.8516678681795223e-17],\n",
       " [0.9500000000000001, 2.2411164278722784e-17],\n",
       " [0.96, 1.2781861811609836e-17],\n",
       " [0.97, 7.145587261798582e-18],\n",
       " [0.98, 3.915577703044684e-18],\n",
       " [0.99, 2.1031385150348866e-18]]"
      ]
     },
     "execution_count": 31,
     "metadata": {},
     "output_type": "execute_result"
    }
   ],
   "source": [
    "# write your code here\n",
    "def loop_likelihood(D):\n",
    "    U = np.arange(0, 1, 0.01)\n",
    "    P = []\n",
    "    for u in U:\n",
    "        P.append([u, compute_likelihood(D, u)])\n",
    "    return P\n",
    "loop_likelihood(D)"
   ]
  },
  {
   "cell_type": "markdown",
   "metadata": {},
   "source": [
    "### Questions:\n",
    "\n",
    "- What is the value of the maximum likelihood $\\text{ML} = \\max p(D|\\mu)$ ? \n",
    "\n",
    "- What is $\\mu_{\\text{ML}} = arg\\,max_\\mu \\, p(D|\\mu)$? \n",
    "\n",
    "Make sure you understand the difference between the two."
   ]
  },
  {
   "cell_type": "code",
   "execution_count": 38,
   "metadata": {},
   "outputs": [
    {
     "name": "stdout",
     "output_type": "stream",
     "text": [
      "Mu for maxiumum likelihood = 0.67\n",
      "Maximum likelihood = 4.491192371239748e-14\n"
     ]
    }
   ],
   "source": [
    "# write your code here\n",
    "P = np.array(loop_likelihood(D))\n",
    "max_index = np.argmax(P[:, 1])\n",
    "arg_max, max_l = P[max_index, :]\n",
    "\n",
    "print(\"Mu for maxiumum likelihood = {}\".format(arg_max))\n",
    "print(\"Maximum likelihood = {}\".format(max_l))"
   ]
  },
  {
   "cell_type": "markdown",
   "metadata": {},
   "source": [
    "### Visual interpretation\n",
    "\n",
    "Look at the obtained $\\mu_{\\text{ML}}$ and at the previously plotted histogram. Can you see any relationship between the obtained value and the histogram?\n",
    "\n",
    "Let's now plot $\\mu$ against $p(D|\\mu)$, using the $\\mu$ values you used to compute the likelihoods. Plot also a vertical line located at $\\mu_{\\text{ML}}$. Where does this line lie? Is it a meaningful position?"
   ]
  },
  {
   "cell_type": "code",
   "execution_count": 51,
   "metadata": {},
   "outputs": [
    {
     "data": {
      "text/plain": [
       "<matplotlib.lines.Line2D at 0x7f76cc3da7f0>"
      ]
     },
     "execution_count": 51,
     "metadata": {},
     "output_type": "execute_result"
    },
    {
     "data": {
      "image/png": "[encoded data removed]",
      "text/plain": [
       "<Figure size 770x440 with 1 Axes>"
      ]
     },
     "metadata": {},
     "output_type": "display_data"
    }
   ],
   "source": [
    "# write your code here\n",
    "plt.scatter(P[:, 0], P[:, 1], s=3)\n",
    "plt.axvline(x = arg_max, color = 'g')"
   ]
  },
  {
   "cell_type": "markdown",
   "metadata": {},
   "source": [
    "### Comparison with MLE recipe\n",
    "\n",
    "Now implement the analytic MLE result, $\\mu_\\text{ML} = \\frac{1}{n}\\sum_i d_i$, to find the value of $\\mu_{ML}$ (note that this should be just one line of code!).\n",
    "\n",
    "Compare this value with that obtained previously. Do the values match? "
   ]
  },
  {
   "cell_type": "code",
   "execution_count": 55,
   "metadata": {},
   "outputs": [
    {
     "name": "stdout",
     "output_type": "stream",
     "text": [
      "MLE statistically: 0.67\n",
      "MLE analytically: 0.6742339399999999\n"
     ]
    }
   ],
   "source": [
    "# write your code here\n",
    "u_ml = (1 / len(D)) * np.sum(D)\n",
    "print(\"MLE statistically: {}\".format(arg_max))\n",
    "print(\"MLE analytically: {}\".format(u_ml))"
   ]
  },
  {
   "cell_type": "code",
   "execution_count": null,
   "metadata": {},
   "outputs": [],
   "source": [
    "# write your code here"
   ]
  }
 ],
 "metadata": {
  "kernelspec": {
   "display_name": "Python 3 (ipykernel)",
   "language": "python",
   "name": "python3"
  },
  "language_info": {
   "codemirror_mode": {
    "name": "ipython",
    "version": 3
   },
   "file_extension": ".py",
   "mimetype": "text/x-python",
   "name": "python",
   "nbconvert_exporter": "python",
   "pygments_lexer": "ipython3",
   "version": "3.9.13"
  }
 },
 "nbformat": 4,
 "nbformat_minor": 4
}
